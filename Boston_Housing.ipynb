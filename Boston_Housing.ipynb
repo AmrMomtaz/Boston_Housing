{
  "nbformat": 4,
  "nbformat_minor": 0,
  "metadata": {
    "colab": {
      "name": "Boston_Housing.ipynb",
      "provenance": [],
      "collapsed_sections": [],
      "authorship_tag": "ABX9TyMrBsC2NawsVJK8b6L2xV5I",
      "include_colab_link": true
    },
    "kernelspec": {
      "name": "python3",
      "display_name": "Python 3"
    },
    "language_info": {
      "name": "python"
    }
  },
  "cells": [
    {
      "cell_type": "markdown",
      "metadata": {
        "id": "view-in-github",
        "colab_type": "text"
      },
      "source": [
        "<a href=\"https://colab.research.google.com/github/AmrMomtaz/Boston_Housing/blob/main/Boston_Housing.ipynb\" target=\"_parent\"><img src=\"https://colab.research.google.com/assets/colab-badge.svg\" alt=\"Open In Colab\"/></a>"
      ]
    },
    {
      "cell_type": "markdown",
      "source": [
        "#Boston Housing"
      ],
      "metadata": {
        "id": "KB3v01TzH1hE"
      }
    },
    {
      "cell_type": "markdown",
      "source": [
        "##Problem Statement\n",
        "It's given housing values in Suburbs of Boston and it's required to predict the medv variable (target variable) <a href = \"https://www.kaggle.com/c/boston-housing\">[Problem link]</a><br><br>\n",
        "**Inputs** :<br>\n",
        "The Boston data frame has 506 rows and 14 columns.<br>\n",
        "This data frame contains the following columns:<br>\n",
        "crim\n",
        "per capita crime rate by town.<br>\n",
        "zn\n",
        "proportion of residential land zoned for lots over 25,000 sq.ft.<br>\n",
        "indus\n",
        "proportion of non-retail business acres per town.<br>\n",
        "chas\n",
        "Charles River dummy variable (= 1 if tract bounds river; 0 otherwise).<br>\n",
        "nox\n",
        "nitrogen oxides concentration (parts per 10 million).<br>\n",
        "rm\n",
        "average number of rooms per dwelling.<br>\n",
        "age\n",
        "proportion of owner-occupied units built prior to 1940.<br>\n",
        "dis\n",
        "weighted mean of distances to five Boston employment centres.<br>\n",
        "rad\n",
        "index of accessibility to radial highways.<br>\n",
        "tax\n",
        "full-value property-tax rate per \\$10,000.<br>\n",
        "ptratio\n",
        "pupil-teacher ratio by town.<br>\n",
        "black\n",
        "1000(Bk - 0.63)^2 where Bk is the proportion of blacks by town.<br>\n",
        "lstat\n",
        "lower status of the population (percent).<br>\n",
        "medv\n",
        "median value of owner-occupied homes in \\$1000s.<br><br>\n",
        "**Outputs** :<br>\n",
        "The prediction of the median value of owner-occupied homes.<br><br>\n",
        "**Evaluation** :<br>\n",
        "The scoring is based on the RMSE (Root Mean Square)."
      ],
      "metadata": {
        "id": "3jXkjQPrIART"
      }
    },
    {
      "cell_type": "markdown",
      "source": [
        "##Data Pre-Processing\n",
        "This section will contains all the notebook dependencies and all the data preparations including EDA and data preprocessing and data split. (You have to import your kaggle API tokken in irder to run the following cell)"
      ],
      "metadata": {
        "id": "7XkcH80_LWBf"
      }
    },
    {
      "cell_type": "code",
      "source": [
        "# Cloning the data\n",
        "! mkdir ~/.kaggle\n",
        "! cp kaggle.json ~/.kaggle/\n",
        "! chmod 600 ~/.kaggle/kaggle.json\n",
        "! kaggle competitions download boston-housing"
      ],
      "metadata": {
        "colab": {
          "base_uri": "https://localhost:8080/"
        },
        "id": "4W_PNMDbFb2N",
        "outputId": "1f1955a0-9705-484b-cf40-f111470d705d"
      },
      "execution_count": 1,
      "outputs": [
        {
          "output_type": "stream",
          "name": "stdout",
          "text": [
            "Warning: Looks like you're using an outdated API Version, please consider updating (server 1.5.12 / client 1.5.4)\n",
            "Downloading train.csv to /content\n",
            "  0% 0.00/23.6k [00:00<?, ?B/s]\n",
            "100% 23.6k/23.6k [00:00<00:00, 9.12MB/s]\n",
            "Downloading submission_example.csv to /content\n",
            "  0% 0.00/3.52k [00:00<?, ?B/s]\n",
            "100% 3.52k/3.52k [00:00<00:00, 3.14MB/s]\n",
            "Downloading test.csv to /content\n",
            "  0% 0.00/11.5k [00:00<?, ?B/s]\n",
            "100% 11.5k/11.5k [00:00<00:00, 11.7MB/s]\n"
          ]
        }
      ]
    },
    {
      "cell_type": "code",
      "execution_count": 83,
      "metadata": {
        "id": "bzR2BQHnE23M"
      },
      "outputs": [],
      "source": [
        "#Importing libraries\n",
        "import pandas as pd\n",
        "import numpy as np\n",
        "import torch\n",
        "import torch.nn as nn\n",
        "from torch.utils.data import TensorDataset\n",
        "from torch.utils.data import DataLoader\n",
        "from sklearn import preprocessing\n",
        "import torch.nn.functional as F"
      ]
    },
    {
      "cell_type": "code",
      "source": [
        "train_df = pd.read_csv('train.csv')\n",
        "test_df = pd.read_csv('test.csv')\n",
        "print(train_df.shape)\n",
        "print(train_df.columns)\n",
        "train_df.describe()"
      ],
      "metadata": {
        "id": "453NstBoHFzw",
        "colab": {
          "base_uri": "https://localhost:8080/",
          "height": 437
        },
        "outputId": "fb7a7a39-386b-470c-a090-dae621468baa"
      },
      "execution_count": 84,
      "outputs": [
        {
          "output_type": "stream",
          "name": "stdout",
          "text": [
            "(333, 15)\n",
            "Index(['ID', 'crim', 'zn', 'indus', 'chas', 'nox', 'rm', 'age', 'dis', 'rad',\n",
            "       'tax', 'ptratio', 'black', 'lstat', 'medv'],\n",
            "      dtype='object')\n"
          ]
        },
        {
          "output_type": "execute_result",
          "data": {
            "text/html": [
              "\n",
              "  <div id=\"df-12145f61-2492-4d12-8f53-4a0781f8e60e\">\n",
              "    <div class=\"colab-df-container\">\n",
              "      <div>\n",
              "<style scoped>\n",
              "    .dataframe tbody tr th:only-of-type {\n",
              "        vertical-align: middle;\n",
              "    }\n",
              "\n",
              "    .dataframe tbody tr th {\n",
              "        vertical-align: top;\n",
              "    }\n",
              "\n",
              "    .dataframe thead th {\n",
              "        text-align: right;\n",
              "    }\n",
              "</style>\n",
              "<table border=\"1\" class=\"dataframe\">\n",
              "  <thead>\n",
              "    <tr style=\"text-align: right;\">\n",
              "      <th></th>\n",
              "      <th>ID</th>\n",
              "      <th>crim</th>\n",
              "      <th>zn</th>\n",
              "      <th>indus</th>\n",
              "      <th>chas</th>\n",
              "      <th>nox</th>\n",
              "      <th>rm</th>\n",
              "      <th>age</th>\n",
              "      <th>dis</th>\n",
              "      <th>rad</th>\n",
              "      <th>tax</th>\n",
              "      <th>ptratio</th>\n",
              "      <th>black</th>\n",
              "      <th>lstat</th>\n",
              "      <th>medv</th>\n",
              "    </tr>\n",
              "  </thead>\n",
              "  <tbody>\n",
              "    <tr>\n",
              "      <th>count</th>\n",
              "      <td>333.000000</td>\n",
              "      <td>333.000000</td>\n",
              "      <td>333.000000</td>\n",
              "      <td>333.000000</td>\n",
              "      <td>333.000000</td>\n",
              "      <td>333.000000</td>\n",
              "      <td>333.000000</td>\n",
              "      <td>333.000000</td>\n",
              "      <td>333.000000</td>\n",
              "      <td>333.000000</td>\n",
              "      <td>333.000000</td>\n",
              "      <td>333.000000</td>\n",
              "      <td>333.000000</td>\n",
              "      <td>333.000000</td>\n",
              "      <td>333.000000</td>\n",
              "    </tr>\n",
              "    <tr>\n",
              "      <th>mean</th>\n",
              "      <td>250.951952</td>\n",
              "      <td>3.360341</td>\n",
              "      <td>10.689189</td>\n",
              "      <td>11.293483</td>\n",
              "      <td>0.060060</td>\n",
              "      <td>0.557144</td>\n",
              "      <td>6.265619</td>\n",
              "      <td>68.226426</td>\n",
              "      <td>3.709934</td>\n",
              "      <td>9.633634</td>\n",
              "      <td>409.279279</td>\n",
              "      <td>18.448048</td>\n",
              "      <td>359.466096</td>\n",
              "      <td>12.515435</td>\n",
              "      <td>22.768769</td>\n",
              "    </tr>\n",
              "    <tr>\n",
              "      <th>std</th>\n",
              "      <td>147.859438</td>\n",
              "      <td>7.352272</td>\n",
              "      <td>22.674762</td>\n",
              "      <td>6.998123</td>\n",
              "      <td>0.237956</td>\n",
              "      <td>0.114955</td>\n",
              "      <td>0.703952</td>\n",
              "      <td>28.133344</td>\n",
              "      <td>1.981123</td>\n",
              "      <td>8.742174</td>\n",
              "      <td>170.841988</td>\n",
              "      <td>2.151821</td>\n",
              "      <td>86.584567</td>\n",
              "      <td>7.067781</td>\n",
              "      <td>9.173468</td>\n",
              "    </tr>\n",
              "    <tr>\n",
              "      <th>min</th>\n",
              "      <td>1.000000</td>\n",
              "      <td>0.006320</td>\n",
              "      <td>0.000000</td>\n",
              "      <td>0.740000</td>\n",
              "      <td>0.000000</td>\n",
              "      <td>0.385000</td>\n",
              "      <td>3.561000</td>\n",
              "      <td>6.000000</td>\n",
              "      <td>1.129600</td>\n",
              "      <td>1.000000</td>\n",
              "      <td>188.000000</td>\n",
              "      <td>12.600000</td>\n",
              "      <td>3.500000</td>\n",
              "      <td>1.730000</td>\n",
              "      <td>5.000000</td>\n",
              "    </tr>\n",
              "    <tr>\n",
              "      <th>25%</th>\n",
              "      <td>123.000000</td>\n",
              "      <td>0.078960</td>\n",
              "      <td>0.000000</td>\n",
              "      <td>5.130000</td>\n",
              "      <td>0.000000</td>\n",
              "      <td>0.453000</td>\n",
              "      <td>5.884000</td>\n",
              "      <td>45.400000</td>\n",
              "      <td>2.122400</td>\n",
              "      <td>4.000000</td>\n",
              "      <td>279.000000</td>\n",
              "      <td>17.400000</td>\n",
              "      <td>376.730000</td>\n",
              "      <td>7.180000</td>\n",
              "      <td>17.400000</td>\n",
              "    </tr>\n",
              "    <tr>\n",
              "      <th>50%</th>\n",
              "      <td>244.000000</td>\n",
              "      <td>0.261690</td>\n",
              "      <td>0.000000</td>\n",
              "      <td>9.900000</td>\n",
              "      <td>0.000000</td>\n",
              "      <td>0.538000</td>\n",
              "      <td>6.202000</td>\n",
              "      <td>76.700000</td>\n",
              "      <td>3.092300</td>\n",
              "      <td>5.000000</td>\n",
              "      <td>330.000000</td>\n",
              "      <td>19.000000</td>\n",
              "      <td>392.050000</td>\n",
              "      <td>10.970000</td>\n",
              "      <td>21.600000</td>\n",
              "    </tr>\n",
              "    <tr>\n",
              "      <th>75%</th>\n",
              "      <td>377.000000</td>\n",
              "      <td>3.678220</td>\n",
              "      <td>12.500000</td>\n",
              "      <td>18.100000</td>\n",
              "      <td>0.000000</td>\n",
              "      <td>0.631000</td>\n",
              "      <td>6.595000</td>\n",
              "      <td>93.800000</td>\n",
              "      <td>5.116700</td>\n",
              "      <td>24.000000</td>\n",
              "      <td>666.000000</td>\n",
              "      <td>20.200000</td>\n",
              "      <td>396.240000</td>\n",
              "      <td>16.420000</td>\n",
              "      <td>25.000000</td>\n",
              "    </tr>\n",
              "    <tr>\n",
              "      <th>max</th>\n",
              "      <td>506.000000</td>\n",
              "      <td>73.534100</td>\n",
              "      <td>100.000000</td>\n",
              "      <td>27.740000</td>\n",
              "      <td>1.000000</td>\n",
              "      <td>0.871000</td>\n",
              "      <td>8.725000</td>\n",
              "      <td>100.000000</td>\n",
              "      <td>10.710300</td>\n",
              "      <td>24.000000</td>\n",
              "      <td>711.000000</td>\n",
              "      <td>21.200000</td>\n",
              "      <td>396.900000</td>\n",
              "      <td>37.970000</td>\n",
              "      <td>50.000000</td>\n",
              "    </tr>\n",
              "  </tbody>\n",
              "</table>\n",
              "</div>\n",
              "      <button class=\"colab-df-convert\" onclick=\"convertToInteractive('df-12145f61-2492-4d12-8f53-4a0781f8e60e')\"\n",
              "              title=\"Convert this dataframe to an interactive table.\"\n",
              "              style=\"display:none;\">\n",
              "        \n",
              "  <svg xmlns=\"http://www.w3.org/2000/svg\" height=\"24px\"viewBox=\"0 0 24 24\"\n",
              "       width=\"24px\">\n",
              "    <path d=\"M0 0h24v24H0V0z\" fill=\"none\"/>\n",
              "    <path d=\"M18.56 5.44l.94 2.06.94-2.06 2.06-.94-2.06-.94-.94-2.06-.94 2.06-2.06.94zm-11 1L8.5 8.5l.94-2.06 2.06-.94-2.06-.94L8.5 2.5l-.94 2.06-2.06.94zm10 10l.94 2.06.94-2.06 2.06-.94-2.06-.94-.94-2.06-.94 2.06-2.06.94z\"/><path d=\"M17.41 7.96l-1.37-1.37c-.4-.4-.92-.59-1.43-.59-.52 0-1.04.2-1.43.59L10.3 9.45l-7.72 7.72c-.78.78-.78 2.05 0 2.83L4 21.41c.39.39.9.59 1.41.59.51 0 1.02-.2 1.41-.59l7.78-7.78 2.81-2.81c.8-.78.8-2.07 0-2.86zM5.41 20L4 18.59l7.72-7.72 1.47 1.35L5.41 20z\"/>\n",
              "  </svg>\n",
              "      </button>\n",
              "      \n",
              "  <style>\n",
              "    .colab-df-container {\n",
              "      display:flex;\n",
              "      flex-wrap:wrap;\n",
              "      gap: 12px;\n",
              "    }\n",
              "\n",
              "    .colab-df-convert {\n",
              "      background-color: #E8F0FE;\n",
              "      border: none;\n",
              "      border-radius: 50%;\n",
              "      cursor: pointer;\n",
              "      display: none;\n",
              "      fill: #1967D2;\n",
              "      height: 32px;\n",
              "      padding: 0 0 0 0;\n",
              "      width: 32px;\n",
              "    }\n",
              "\n",
              "    .colab-df-convert:hover {\n",
              "      background-color: #E2EBFA;\n",
              "      box-shadow: 0px 1px 2px rgba(60, 64, 67, 0.3), 0px 1px 3px 1px rgba(60, 64, 67, 0.15);\n",
              "      fill: #174EA6;\n",
              "    }\n",
              "\n",
              "    [theme=dark] .colab-df-convert {\n",
              "      background-color: #3B4455;\n",
              "      fill: #D2E3FC;\n",
              "    }\n",
              "\n",
              "    [theme=dark] .colab-df-convert:hover {\n",
              "      background-color: #434B5C;\n",
              "      box-shadow: 0px 1px 3px 1px rgba(0, 0, 0, 0.15);\n",
              "      filter: drop-shadow(0px 1px 2px rgba(0, 0, 0, 0.3));\n",
              "      fill: #FFFFFF;\n",
              "    }\n",
              "  </style>\n",
              "\n",
              "      <script>\n",
              "        const buttonEl =\n",
              "          document.querySelector('#df-12145f61-2492-4d12-8f53-4a0781f8e60e button.colab-df-convert');\n",
              "        buttonEl.style.display =\n",
              "          google.colab.kernel.accessAllowed ? 'block' : 'none';\n",
              "\n",
              "        async function convertToInteractive(key) {\n",
              "          const element = document.querySelector('#df-12145f61-2492-4d12-8f53-4a0781f8e60e');\n",
              "          const dataTable =\n",
              "            await google.colab.kernel.invokeFunction('convertToInteractive',\n",
              "                                                     [key], {});\n",
              "          if (!dataTable) return;\n",
              "\n",
              "          const docLinkHtml = 'Like what you see? Visit the ' +\n",
              "            '<a target=\"_blank\" href=https://colab.research.google.com/notebooks/data_table.ipynb>data table notebook</a>'\n",
              "            + ' to learn more about interactive tables.';\n",
              "          element.innerHTML = '';\n",
              "          dataTable['output_type'] = 'display_data';\n",
              "          await google.colab.output.renderOutput(dataTable, element);\n",
              "          const docLink = document.createElement('div');\n",
              "          docLink.innerHTML = docLinkHtml;\n",
              "          element.appendChild(docLink);\n",
              "        }\n",
              "      </script>\n",
              "    </div>\n",
              "  </div>\n",
              "  "
            ],
            "text/plain": [
              "               ID        crim          zn  ...       black       lstat        medv\n",
              "count  333.000000  333.000000  333.000000  ...  333.000000  333.000000  333.000000\n",
              "mean   250.951952    3.360341   10.689189  ...  359.466096   12.515435   22.768769\n",
              "std    147.859438    7.352272   22.674762  ...   86.584567    7.067781    9.173468\n",
              "min      1.000000    0.006320    0.000000  ...    3.500000    1.730000    5.000000\n",
              "25%    123.000000    0.078960    0.000000  ...  376.730000    7.180000   17.400000\n",
              "50%    244.000000    0.261690    0.000000  ...  392.050000   10.970000   21.600000\n",
              "75%    377.000000    3.678220   12.500000  ...  396.240000   16.420000   25.000000\n",
              "max    506.000000   73.534100  100.000000  ...  396.900000   37.970000   50.000000\n",
              "\n",
              "[8 rows x 15 columns]"
            ]
          },
          "metadata": {},
          "execution_count": 84
        }
      ]
    },
    {
      "cell_type": "code",
      "source": [
        "inputs = train_df.iloc[:,1:14]\n",
        "targets = train_df['medv']\n",
        "inputs = preprocessing.normalize(inputs)\n",
        "inputs = torch.from_numpy(inputs)\n",
        "targets = torch.tensor(targets)\n",
        "train_ds = TensorDataset(inputs, targets)\n",
        "batch_size = 5\n",
        "train_dl = DataLoader(train_ds, batch_size, shuffle=True)"
      ],
      "metadata": {
        "id": "awSEmxO3GQ77"
      },
      "execution_count": 85,
      "outputs": []
    },
    {
      "cell_type": "code",
      "source": [
        "model = nn.Linear(13,1)"
      ],
      "metadata": {
        "id": "GsNXtQH97QE3"
      },
      "execution_count": 86,
      "outputs": []
    },
    {
      "cell_type": "code",
      "source": [
        "loss_fn = F.mse_loss"
      ],
      "metadata": {
        "id": "8PkcINrO71e3"
      },
      "execution_count": 87,
      "outputs": []
    },
    {
      "cell_type": "code",
      "source": [
        "opt = torch.optim.SGD(model.parameters(), lr=1e-5)"
      ],
      "metadata": {
        "id": "D-GK7Jr_8VD4"
      },
      "execution_count": 88,
      "outputs": []
    },
    {
      "cell_type": "code",
      "source": [
        "def fit(num_epochs, model, loss_fn, opt, train_dl):\n",
        "    \n",
        "    # Repeat for given number of epochs\n",
        "    for epoch in range(num_epochs):\n",
        "        \n",
        "        # Train with batches of data\n",
        "        for xb,yb in train_dl:\n",
        "            \n",
        "            # 1. Generate predictions\n",
        "            pred = model(xb)\n",
        "            \n",
        "            loss = loss_fn(pred, yb)\n",
        "            \n",
        "            loss.backward()\n",
        "            \n",
        "            opt.step()\n",
        "            \n",
        "            opt.zero_grad()\n",
        "        \n",
        "        if (epoch+1) % 10 == 0:\n",
        "            print('Epoch [{}/{}], Loss: {:.4f}'.format(epoch+1, num_epochs, loss.item()))"
      ],
      "metadata": {
        "id": "10mse55a8X3t"
      },
      "execution_count": 81,
      "outputs": []
    },
    {
      "cell_type": "code",
      "source": [
        "fit(100, model.double() , loss_fn, opt, train_dl)"
      ],
      "metadata": {
        "colab": {
          "base_uri": "https://localhost:8080/"
        },
        "id": "w4FE6KnB8fqG",
        "outputId": "690a9316-111d-4ce1-ddca-5a758a490a12"
      },
      "execution_count": 90,
      "outputs": [
        {
          "output_type": "stream",
          "name": "stderr",
          "text": [
            "/usr/local/lib/python3.7/dist-packages/ipykernel_launcher.py:12: UserWarning: Using a target size (torch.Size([5])) that is different to the input size (torch.Size([5, 1])). This will likely lead to incorrect results due to broadcasting. Please ensure they have the same size.\n",
            "  if sys.path[0] == '':\n",
            "/usr/local/lib/python3.7/dist-packages/ipykernel_launcher.py:12: UserWarning: Using a target size (torch.Size([3])) that is different to the input size (torch.Size([3, 1])). This will likely lead to incorrect results due to broadcasting. Please ensure they have the same size.\n",
            "  if sys.path[0] == '':\n"
          ]
        },
        {
          "output_type": "stream",
          "name": "stdout",
          "text": [
            "Epoch [10/100], Loss: 530.1176\n",
            "Epoch [20/100], Loss: 148.5087\n",
            "Epoch [30/100], Loss: 83.9066\n",
            "Epoch [40/100], Loss: 34.9172\n",
            "Epoch [50/100], Loss: 45.1776\n",
            "Epoch [60/100], Loss: 39.8164\n",
            "Epoch [70/100], Loss: 89.5532\n",
            "Epoch [80/100], Loss: 354.0048\n",
            "Epoch [90/100], Loss: 16.6971\n",
            "Epoch [100/100], Loss: 84.5946\n"
          ]
        }
      ]
    }
  ]
}